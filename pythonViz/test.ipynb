{
 "metadata": {
  "language_info": {
   "codemirror_mode": {
    "name": "ipython",
    "version": 3
   },
   "file_extension": ".py",
   "mimetype": "text/x-python",
   "name": "python",
   "nbconvert_exporter": "python",
   "pygments_lexer": "ipython3",
   "version": "3.8.10"
  },
  "orig_nbformat": 2,
  "kernelspec": {
   "name": "python3810jvsc74a57bd01c85436272c06166f29867ae72f8c26f95c1c4371cf4b502140f7b23ed7a4e8f",
   "display_name": "Python 3.8.10 64-bit"
  },
  "metadata": {
   "interpreter": {
    "hash": "1c85436272c06166f29867ae72f8c26f95c1c4371cf4b502140f7b23ed7a4e8f"
   }
  }
 },
 "nbformat": 4,
 "nbformat_minor": 2,
 "cells": [
  {
   "cell_type": "code",
   "execution_count": 12,
   "metadata": {},
   "outputs": [
    {
     "output_type": "stream",
     "name": "stdout",
     "text": [
      "IS  Prime: 11\nIS  Prime: 101\nNOT Prime: 1001\nNOT Prime: 10001\nNOT Prime: 100001\nNOT Prime: 1000001\nNOT Prime: 10000001\nNOT Prime: 100000001\nNOT Prime: 1000000001\nNOT Prime: 10e10 + 1\nNOT Prime: 10e11 + 1\nNOT Prime: 10e12 + 1\nNOT Prime: 10e13 + 1\nNOT Prime: 10e14 + 1\nNOT Prime: 10e15 + 1\nNOT Prime: 10e16 + 1\nNOT Prime: 10e17 + 1\nNOT Prime: 10e18 + 1\nNOT Prime: 10e19 + 1\nNOT Prime: 10e20 + 1\nNOT Prime: 10e21 + 1\nNOT Prime: 10e22 + 1\nNOT Prime: 10e23 + 1\nNOT Prime: 10e24 + 1\nNOT Prime: 10e25 + 1\nNOT Prime: 10e26 + 1\nNOT Prime: 10e27 + 1\nNOT Prime: 10e28 + 1\nNOT Prime: 10e29 + 1\nNOT Prime: 10e30 + 1\nNOT Prime: 10e31 + 1\nNOT Prime: 10e32 + 1\nNOT Prime: 10e33 + 1\nNOT Prime: 10e34 + 1\nNOT Prime: 10e35 + 1\nNOT Prime: 10e36 + 1\nNOT Prime: 10e37 + 1\nNOT Prime: 10e38 + 1\nNOT Prime: 10e39 + 1\nNOT Prime: 10e40 + 1\nNOT Prime: 10e41 + 1\nNOT Prime: 10e42 + 1\nNOT Prime: 10e43 + 1\nNOT Prime: 10e44 + 1\nNOT Prime: 10e45 + 1\nNOT Prime: 10e46 + 1\nNOT Prime: 10e47 + 1\nNOT Prime: 10e48 + 1\nNOT Prime: 10e49 + 1\nNOT Prime: 10e50 + 1\nNOT Prime: 10e51 + 1\nNOT Prime: 10e52 + 1\nNOT Prime: 10e53 + 1\nNOT Prime: 10e54 + 1\nNOT Prime: 10e55 + 1\nNOT Prime: 10e56 + 1\nNOT Prime: 10e57 + 1\nNOT Prime: 10e58 + 1\nNOT Prime: 10e59 + 1\nNOT Prime: 10e60 + 1\n"
     ]
    }
   ],
   "source": [
    "def isPrime(num):\n",
    "    p = 3\n",
    "    while p * p <= num:\n",
    "        if num % p == 0:\n",
    "            return False\n",
    "        p += 2\n",
    "    return True\n",
    "\n",
    "def stringifyTenExp(num):\n",
    "    num = str(num)\n",
    "    if len(num) > 10:\n",
    "        num = '10e' + str(len(num)-1) + ' + 1'\n",
    "    return num\n",
    "\n",
    "for e in range(1, 61):\n",
    "    tmp = pow(10, e) + 1\n",
    "    if isPrime(tmp):\n",
    "        print('IS  Prime: ' + stringifyTenExp(tmp))\n",
    "    else:\n",
    "        print('NOT Prime: ' + stringifyTenExp(tmp))\n",
    "\n"
   ]
  },
  {
   "cell_type": "code",
   "execution_count": 4,
   "metadata": {},
   "outputs": [],
   "source": [
    "def stringifyNum(num):\n",
    "    num = str(num)\n",
    "    if len(num) > 3:\n",
    "        i = len(num) % 3\n",
    "        tmp = num[:i]\n",
    "        while i + 3 < len(num):\n",
    "            tmp += ',' + num[i:i+3]\n",
    "            i += 3\n",
    "        \n",
    "        num = tmp + ',' + num[i:]\n",
    "    \n",
    "    if num[0] == ',':\n",
    "        num = num[1:]\n",
    "    \n",
    "    return num"
   ]
  },
  {
   "cell_type": "code",
   "execution_count": null,
   "metadata": {},
   "outputs": [],
   "source": []
  }
 ]
}